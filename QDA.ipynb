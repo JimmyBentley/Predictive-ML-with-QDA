{
 "cells": [
  {
   "cell_type": "code",
   "execution_count": 1,
   "id": "eee02424",
   "metadata": {},
   "outputs": [],
   "source": [
    "import numpy as np\n",
    "import pandas as pd\n",
    "import scipy.stats"
   ]
  },
  {
   "cell_type": "markdown",
   "id": "806d14f3",
   "metadata": {},
   "source": [
    "Importing data"
   ]
  },
  {
   "cell_type": "code",
   "execution_count": 2,
   "id": "aace72ac",
   "metadata": {},
   "outputs": [],
   "source": [
    "X_train = pd.read_csv('X-train.csv', header=None)\n",
    "y_train = pd.read_csv('y-train.csv', header=None)"
   ]
  },
  {
   "cell_type": "code",
   "execution_count": 3,
   "id": "c9c09854",
   "metadata": {
    "scrolled": true
   },
   "outputs": [
    {
     "data": {
      "text/html": [
       "<div>\n",
       "<style scoped>\n",
       "    .dataframe tbody tr th:only-of-type {\n",
       "        vertical-align: middle;\n",
       "    }\n",
       "\n",
       "    .dataframe tbody tr th {\n",
       "        vertical-align: top;\n",
       "    }\n",
       "\n",
       "    .dataframe thead th {\n",
       "        text-align: right;\n",
       "    }\n",
       "</style>\n",
       "<table border=\"1\" class=\"dataframe\">\n",
       "  <thead>\n",
       "    <tr style=\"text-align: right;\">\n",
       "      <th></th>\n",
       "      <th>0</th>\n",
       "      <th>1</th>\n",
       "      <th>2</th>\n",
       "      <th>3</th>\n",
       "      <th>4</th>\n",
       "      <th>5</th>\n",
       "      <th>6</th>\n",
       "      <th>7</th>\n",
       "      <th>8</th>\n",
       "      <th>9</th>\n",
       "      <th>10</th>\n",
       "      <th>11</th>\n",
       "      <th>12</th>\n",
       "      <th>13</th>\n",
       "      <th>14</th>\n",
       "      <th>15</th>\n",
       "      <th>16</th>\n",
       "      <th>17</th>\n",
       "      <th>18</th>\n",
       "    </tr>\n",
       "  </thead>\n",
       "  <tbody>\n",
       "    <tr>\n",
       "      <th>0</th>\n",
       "      <td>14.1</td>\n",
       "      <td>2.0</td>\n",
       "      <td>4.3</td>\n",
       "      <td>0.469</td>\n",
       "      <td>1.0</td>\n",
       "      <td>2.8</td>\n",
       "      <td>0.371</td>\n",
       "      <td>1.0</td>\n",
       "      <td>0.651</td>\n",
       "      <td>0.6</td>\n",
       "      <td>0.788</td>\n",
       "      <td>0.788</td>\n",
       "      <td>0.5</td>\n",
       "      <td>2.1</td>\n",
       "      <td>0.4</td>\n",
       "      <td>0.3</td>\n",
       "      <td>0.3</td>\n",
       "      <td>1.8</td>\n",
       "      <td>5.6</td>\n",
       "    </tr>\n",
       "    <tr>\n",
       "      <th>1</th>\n",
       "      <td>5.6</td>\n",
       "      <td>0.4</td>\n",
       "      <td>1.7</td>\n",
       "      <td>0.250</td>\n",
       "      <td>0.1</td>\n",
       "      <td>0.9</td>\n",
       "      <td>0.167</td>\n",
       "      <td>0.3</td>\n",
       "      <td>0.333</td>\n",
       "      <td>0.1</td>\n",
       "      <td>0.500</td>\n",
       "      <td>0.500</td>\n",
       "      <td>0.4</td>\n",
       "      <td>0.6</td>\n",
       "      <td>0.1</td>\n",
       "      <td>0.2</td>\n",
       "      <td>0.1</td>\n",
       "      <td>0.2</td>\n",
       "      <td>1.1</td>\n",
       "    </tr>\n",
       "    <tr>\n",
       "      <th>2</th>\n",
       "      <td>33.8</td>\n",
       "      <td>7.3</td>\n",
       "      <td>14.4</td>\n",
       "      <td>0.505</td>\n",
       "      <td>1.8</td>\n",
       "      <td>5.6</td>\n",
       "      <td>0.325</td>\n",
       "      <td>5.5</td>\n",
       "      <td>0.618</td>\n",
       "      <td>4.4</td>\n",
       "      <td>0.885</td>\n",
       "      <td>0.885</td>\n",
       "      <td>1.7</td>\n",
       "      <td>6.5</td>\n",
       "      <td>5.3</td>\n",
       "      <td>0.8</td>\n",
       "      <td>0.7</td>\n",
       "      <td>3.9</td>\n",
       "      <td>20.8</td>\n",
       "    </tr>\n",
       "    <tr>\n",
       "      <th>3</th>\n",
       "      <td>37.8</td>\n",
       "      <td>9.8</td>\n",
       "      <td>19.2</td>\n",
       "      <td>0.512</td>\n",
       "      <td>3.3</td>\n",
       "      <td>7.9</td>\n",
       "      <td>0.414</td>\n",
       "      <td>6.5</td>\n",
       "      <td>0.581</td>\n",
       "      <td>4.6</td>\n",
       "      <td>0.944</td>\n",
       "      <td>0.944</td>\n",
       "      <td>1.2</td>\n",
       "      <td>3.9</td>\n",
       "      <td>6.6</td>\n",
       "      <td>1.2</td>\n",
       "      <td>0.4</td>\n",
       "      <td>3.1</td>\n",
       "      <td>27.5</td>\n",
       "    </tr>\n",
       "    <tr>\n",
       "      <th>4</th>\n",
       "      <td>11.4</td>\n",
       "      <td>2.6</td>\n",
       "      <td>5.0</td>\n",
       "      <td>0.520</td>\n",
       "      <td>0.8</td>\n",
       "      <td>2.4</td>\n",
       "      <td>0.333</td>\n",
       "      <td>1.8</td>\n",
       "      <td>0.692</td>\n",
       "      <td>0.2</td>\n",
       "      <td>1.000</td>\n",
       "      <td>1.000</td>\n",
       "      <td>0.2</td>\n",
       "      <td>1.6</td>\n",
       "      <td>2.0</td>\n",
       "      <td>1.0</td>\n",
       "      <td>0.2</td>\n",
       "      <td>1.0</td>\n",
       "      <td>6.2</td>\n",
       "    </tr>\n",
       "  </tbody>\n",
       "</table>\n",
       "</div>"
      ],
      "text/plain": [
       "     0    1     2      3    4    5      6    7      8    9      10     11  \\\n",
       "0  14.1  2.0   4.3  0.469  1.0  2.8  0.371  1.0  0.651  0.6  0.788  0.788   \n",
       "1   5.6  0.4   1.7  0.250  0.1  0.9  0.167  0.3  0.333  0.1  0.500  0.500   \n",
       "2  33.8  7.3  14.4  0.505  1.8  5.6  0.325  5.5  0.618  4.4  0.885  0.885   \n",
       "3  37.8  9.8  19.2  0.512  3.3  7.9  0.414  6.5  0.581  4.6  0.944  0.944   \n",
       "4  11.4  2.6   5.0  0.520  0.8  2.4  0.333  1.8  0.692  0.2  1.000  1.000   \n",
       "\n",
       "    12   13   14   15   16   17    18  \n",
       "0  0.5  2.1  0.4  0.3  0.3  1.8   5.6  \n",
       "1  0.4  0.6  0.1  0.2  0.1  0.2   1.1  \n",
       "2  1.7  6.5  5.3  0.8  0.7  3.9  20.8  \n",
       "3  1.2  3.9  6.6  1.2  0.4  3.1  27.5  \n",
       "4  0.2  1.6  2.0  1.0  0.2  1.0   6.2  "
      ]
     },
     "execution_count": 3,
     "metadata": {},
     "output_type": "execute_result"
    }
   ],
   "source": [
    "X_train.head()"
   ]
  },
  {
   "cell_type": "code",
   "execution_count": 4,
   "id": "8c45aac2",
   "metadata": {},
   "outputs": [
    {
     "data": {
      "text/plain": [
       "427"
      ]
     },
     "execution_count": 4,
     "metadata": {},
     "output_type": "execute_result"
    }
   ],
   "source": [
    "len(X_train)"
   ]
  },
  {
   "cell_type": "code",
   "execution_count": 5,
   "id": "2177cd05",
   "metadata": {},
   "outputs": [
    {
     "data": {
      "text/plain": [
       "array([1, 3, 2, 4, 0], dtype=int64)"
      ]
     },
     "execution_count": 5,
     "metadata": {},
     "output_type": "execute_result"
    }
   ],
   "source": [
    "y_train[0].unique()"
   ]
  },
  {
   "cell_type": "code",
   "execution_count": 6,
   "id": "e7dcbb6d",
   "metadata": {
    "scrolled": true
   },
   "outputs": [
    {
     "data": {
      "text/html": [
       "<div>\n",
       "<style scoped>\n",
       "    .dataframe tbody tr th:only-of-type {\n",
       "        vertical-align: middle;\n",
       "    }\n",
       "\n",
       "    .dataframe tbody tr th {\n",
       "        vertical-align: top;\n",
       "    }\n",
       "\n",
       "    .dataframe thead th {\n",
       "        text-align: right;\n",
       "    }\n",
       "</style>\n",
       "<table border=\"1\" class=\"dataframe\">\n",
       "  <thead>\n",
       "    <tr style=\"text-align: right;\">\n",
       "      <th></th>\n",
       "      <th>0</th>\n",
       "      <th>1</th>\n",
       "      <th>2</th>\n",
       "      <th>3</th>\n",
       "      <th>4</th>\n",
       "      <th>5</th>\n",
       "      <th>6</th>\n",
       "      <th>7</th>\n",
       "      <th>8</th>\n",
       "      <th>9</th>\n",
       "      <th>10</th>\n",
       "      <th>11</th>\n",
       "      <th>12</th>\n",
       "      <th>13</th>\n",
       "      <th>14</th>\n",
       "      <th>15</th>\n",
       "      <th>16</th>\n",
       "      <th>17</th>\n",
       "      <th>18</th>\n",
       "      <th>y</th>\n",
       "    </tr>\n",
       "  </thead>\n",
       "  <tbody>\n",
       "    <tr>\n",
       "      <th>0</th>\n",
       "      <td>14.1</td>\n",
       "      <td>2.0</td>\n",
       "      <td>4.3</td>\n",
       "      <td>0.469</td>\n",
       "      <td>1.0</td>\n",
       "      <td>2.8</td>\n",
       "      <td>0.371</td>\n",
       "      <td>1.0</td>\n",
       "      <td>0.651</td>\n",
       "      <td>0.6</td>\n",
       "      <td>0.788</td>\n",
       "      <td>0.788</td>\n",
       "      <td>0.5</td>\n",
       "      <td>2.1</td>\n",
       "      <td>0.4</td>\n",
       "      <td>0.3</td>\n",
       "      <td>0.3</td>\n",
       "      <td>1.8</td>\n",
       "      <td>5.6</td>\n",
       "      <td>1</td>\n",
       "    </tr>\n",
       "    <tr>\n",
       "      <th>1</th>\n",
       "      <td>5.6</td>\n",
       "      <td>0.4</td>\n",
       "      <td>1.7</td>\n",
       "      <td>0.250</td>\n",
       "      <td>0.1</td>\n",
       "      <td>0.9</td>\n",
       "      <td>0.167</td>\n",
       "      <td>0.3</td>\n",
       "      <td>0.333</td>\n",
       "      <td>0.1</td>\n",
       "      <td>0.500</td>\n",
       "      <td>0.500</td>\n",
       "      <td>0.4</td>\n",
       "      <td>0.6</td>\n",
       "      <td>0.1</td>\n",
       "      <td>0.2</td>\n",
       "      <td>0.1</td>\n",
       "      <td>0.2</td>\n",
       "      <td>1.1</td>\n",
       "      <td>3</td>\n",
       "    </tr>\n",
       "    <tr>\n",
       "      <th>2</th>\n",
       "      <td>33.8</td>\n",
       "      <td>7.3</td>\n",
       "      <td>14.4</td>\n",
       "      <td>0.505</td>\n",
       "      <td>1.8</td>\n",
       "      <td>5.6</td>\n",
       "      <td>0.325</td>\n",
       "      <td>5.5</td>\n",
       "      <td>0.618</td>\n",
       "      <td>4.4</td>\n",
       "      <td>0.885</td>\n",
       "      <td>0.885</td>\n",
       "      <td>1.7</td>\n",
       "      <td>6.5</td>\n",
       "      <td>5.3</td>\n",
       "      <td>0.8</td>\n",
       "      <td>0.7</td>\n",
       "      <td>3.9</td>\n",
       "      <td>20.8</td>\n",
       "      <td>1</td>\n",
       "    </tr>\n",
       "    <tr>\n",
       "      <th>3</th>\n",
       "      <td>37.8</td>\n",
       "      <td>9.8</td>\n",
       "      <td>19.2</td>\n",
       "      <td>0.512</td>\n",
       "      <td>3.3</td>\n",
       "      <td>7.9</td>\n",
       "      <td>0.414</td>\n",
       "      <td>6.5</td>\n",
       "      <td>0.581</td>\n",
       "      <td>4.6</td>\n",
       "      <td>0.944</td>\n",
       "      <td>0.944</td>\n",
       "      <td>1.2</td>\n",
       "      <td>3.9</td>\n",
       "      <td>6.6</td>\n",
       "      <td>1.2</td>\n",
       "      <td>0.4</td>\n",
       "      <td>3.1</td>\n",
       "      <td>27.5</td>\n",
       "      <td>2</td>\n",
       "    </tr>\n",
       "    <tr>\n",
       "      <th>4</th>\n",
       "      <td>11.4</td>\n",
       "      <td>2.6</td>\n",
       "      <td>5.0</td>\n",
       "      <td>0.520</td>\n",
       "      <td>0.8</td>\n",
       "      <td>2.4</td>\n",
       "      <td>0.333</td>\n",
       "      <td>1.8</td>\n",
       "      <td>0.692</td>\n",
       "      <td>0.2</td>\n",
       "      <td>1.000</td>\n",
       "      <td>1.000</td>\n",
       "      <td>0.2</td>\n",
       "      <td>1.6</td>\n",
       "      <td>2.0</td>\n",
       "      <td>1.0</td>\n",
       "      <td>0.2</td>\n",
       "      <td>1.0</td>\n",
       "      <td>6.2</td>\n",
       "      <td>4</td>\n",
       "    </tr>\n",
       "  </tbody>\n",
       "</table>\n",
       "</div>"
      ],
      "text/plain": [
       "      0    1     2      3    4    5      6    7      8    9     10     11  \\\n",
       "0  14.1  2.0   4.3  0.469  1.0  2.8  0.371  1.0  0.651  0.6  0.788  0.788   \n",
       "1   5.6  0.4   1.7  0.250  0.1  0.9  0.167  0.3  0.333  0.1  0.500  0.500   \n",
       "2  33.8  7.3  14.4  0.505  1.8  5.6  0.325  5.5  0.618  4.4  0.885  0.885   \n",
       "3  37.8  9.8  19.2  0.512  3.3  7.9  0.414  6.5  0.581  4.6  0.944  0.944   \n",
       "4  11.4  2.6   5.0  0.520  0.8  2.4  0.333  1.8  0.692  0.2  1.000  1.000   \n",
       "\n",
       "    12   13   14   15   16   17    18  y  \n",
       "0  0.5  2.1  0.4  0.3  0.3  1.8   5.6  1  \n",
       "1  0.4  0.6  0.1  0.2  0.1  0.2   1.1  3  \n",
       "2  1.7  6.5  5.3  0.8  0.7  3.9  20.8  1  \n",
       "3  1.2  3.9  6.6  1.2  0.4  3.1  27.5  2  \n",
       "4  0.2  1.6  2.0  1.0  0.2  1.0   6.2  4  "
      ]
     },
     "execution_count": 6,
     "metadata": {},
     "output_type": "execute_result"
    }
   ],
   "source": [
    "train_data = pd.concat([X_train, y_train.rename(columns={0:'y'})], axis=1)\n",
    "train_data.head()"
   ]
  },
  {
   "cell_type": "markdown",
   "id": "199900e7",
   "metadata": {},
   "source": [
    "Creating validation set"
   ]
  },
  {
   "cell_type": "code",
   "execution_count": 7,
   "id": "fd92ace7",
   "metadata": {},
   "outputs": [],
   "source": [
    "valid_data = train_data[0:100]\n",
    "# train on data that excludes validation set\n",
    "train_data_exc = train_data[100:len(train_data)]"
   ]
  },
  {
   "cell_type": "markdown",
   "id": "e0e97e85",
   "metadata": {},
   "source": [
    "Creating model using Quadratic Discriminant Analysis"
   ]
  },
  {
   "cell_type": "code",
   "execution_count": 8,
   "id": "73fd1193",
   "metadata": {},
   "outputs": [],
   "source": [
    "#computes covariance matrices for 5 classes\n",
    "def computeCovMatrices(data):\n",
    "    n_classes = data['y'].nunique()\n",
    "    multiclassClass = []\n",
    "    Xclass = []\n",
    "    ns = []\n",
    "    means = []\n",
    "    covMatrices = []\n",
    "    for i in range(n_classes):\n",
    "        multiclassClass.append(np.array(data[data['y']==i])[:,0:-1])\n",
    "    for i in range(n_classes):\n",
    "        current = multiclassClass[i]\n",
    "        mean = current.mean(axis=0)\n",
    "        means.append(mean)\n",
    "        Xclass.append(current - mean)\n",
    "        n = multiclassClass[i].shape[0]\n",
    "        ns.append(n)\n",
    "        covMatrix = (1/n) * Xclass[i].T @ Xclass[i]\n",
    "        covMatrices.append(covMatrix)\n",
    "    return covMatrices, means, ns"
   ]
  },
  {
   "cell_type": "code",
   "execution_count": 9,
   "id": "1ce08340",
   "metadata": {},
   "outputs": [],
   "source": [
    "output = computeCovMatrices(train_data_exc)\n",
    "covMatrices = output[0]\n",
    "means = output[1]\n",
    "sampleSizes = output[2]"
   ]
  },
  {
   "cell_type": "code",
   "execution_count": 10,
   "id": "6ff6adba",
   "metadata": {},
   "outputs": [],
   "source": [
    "# QDA for one data point\n",
    "def QDA(x, Cs, means, ns):\n",
    "    mvn = scipy.stats.multivariate_normal\n",
    "    pyi = [n/sum(ns) for n in ns]\n",
    "    probabilities = []\n",
    "    for i in range(len(Cs)):\n",
    "        probabilities.append(mvn.pdf(x, mean=means[i], cov=Cs[i] + .01 * np.eye(19)) * pyi[i])\n",
    "    return probabilities.index(max(probabilities))"
   ]
  },
  {
   "cell_type": "code",
   "execution_count": 11,
   "id": "001239e7",
   "metadata": {},
   "outputs": [],
   "source": [
    "def makePredictions(X):\n",
    "    preds = []\n",
    "    X = np.array(X)\n",
    "    for x in X:\n",
    "        preds.append(QDA(x, covMatrices, means, sampleSizes))\n",
    "    return np.array(preds)"
   ]
  },
  {
   "cell_type": "code",
   "execution_count": 12,
   "id": "a1d36166",
   "metadata": {},
   "outputs": [],
   "source": [
    "preds = makePredictions(np.array(train_data_exc)[:,0:-1])"
   ]
  },
  {
   "cell_type": "code",
   "execution_count": 13,
   "id": "a3bd88c5",
   "metadata": {
    "scrolled": true
   },
   "outputs": [
    {
     "data": {
      "text/plain": [
       "0.709480122324159"
      ]
     },
     "execution_count": 13,
     "metadata": {},
     "output_type": "execute_result"
    }
   ],
   "source": [
    "(np.array(preds) == np.array(y_train[0])[100:len(y_train[0])]).mean()"
   ]
  },
  {
   "cell_type": "markdown",
   "id": "ab338f1b",
   "metadata": {},
   "source": [
    "Validation set testing"
   ]
  },
  {
   "cell_type": "code",
   "execution_count": 14,
   "id": "ef5c14eb",
   "metadata": {
    "scrolled": true
   },
   "outputs": [
    {
     "data": {
      "text/html": [
       "<div>\n",
       "<style scoped>\n",
       "    .dataframe tbody tr th:only-of-type {\n",
       "        vertical-align: middle;\n",
       "    }\n",
       "\n",
       "    .dataframe tbody tr th {\n",
       "        vertical-align: top;\n",
       "    }\n",
       "\n",
       "    .dataframe thead th {\n",
       "        text-align: right;\n",
       "    }\n",
       "</style>\n",
       "<table border=\"1\" class=\"dataframe\">\n",
       "  <thead>\n",
       "    <tr style=\"text-align: right;\">\n",
       "      <th></th>\n",
       "      <th>0</th>\n",
       "      <th>1</th>\n",
       "      <th>2</th>\n",
       "      <th>3</th>\n",
       "      <th>4</th>\n",
       "      <th>5</th>\n",
       "      <th>6</th>\n",
       "      <th>7</th>\n",
       "      <th>8</th>\n",
       "      <th>9</th>\n",
       "      <th>10</th>\n",
       "      <th>11</th>\n",
       "      <th>12</th>\n",
       "      <th>13</th>\n",
       "      <th>14</th>\n",
       "      <th>15</th>\n",
       "      <th>16</th>\n",
       "      <th>17</th>\n",
       "      <th>18</th>\n",
       "      <th>y</th>\n",
       "    </tr>\n",
       "  </thead>\n",
       "  <tbody>\n",
       "    <tr>\n",
       "      <th>0</th>\n",
       "      <td>14.1</td>\n",
       "      <td>2.0</td>\n",
       "      <td>4.3</td>\n",
       "      <td>0.469</td>\n",
       "      <td>1.0</td>\n",
       "      <td>2.8</td>\n",
       "      <td>0.371</td>\n",
       "      <td>1.0</td>\n",
       "      <td>0.651</td>\n",
       "      <td>0.6</td>\n",
       "      <td>0.788</td>\n",
       "      <td>0.788</td>\n",
       "      <td>0.5</td>\n",
       "      <td>2.1</td>\n",
       "      <td>0.4</td>\n",
       "      <td>0.3</td>\n",
       "      <td>0.3</td>\n",
       "      <td>1.8</td>\n",
       "      <td>5.6</td>\n",
       "      <td>1</td>\n",
       "    </tr>\n",
       "    <tr>\n",
       "      <th>1</th>\n",
       "      <td>5.6</td>\n",
       "      <td>0.4</td>\n",
       "      <td>1.7</td>\n",
       "      <td>0.250</td>\n",
       "      <td>0.1</td>\n",
       "      <td>0.9</td>\n",
       "      <td>0.167</td>\n",
       "      <td>0.3</td>\n",
       "      <td>0.333</td>\n",
       "      <td>0.1</td>\n",
       "      <td>0.500</td>\n",
       "      <td>0.500</td>\n",
       "      <td>0.4</td>\n",
       "      <td>0.6</td>\n",
       "      <td>0.1</td>\n",
       "      <td>0.2</td>\n",
       "      <td>0.1</td>\n",
       "      <td>0.2</td>\n",
       "      <td>1.1</td>\n",
       "      <td>3</td>\n",
       "    </tr>\n",
       "    <tr>\n",
       "      <th>2</th>\n",
       "      <td>33.8</td>\n",
       "      <td>7.3</td>\n",
       "      <td>14.4</td>\n",
       "      <td>0.505</td>\n",
       "      <td>1.8</td>\n",
       "      <td>5.6</td>\n",
       "      <td>0.325</td>\n",
       "      <td>5.5</td>\n",
       "      <td>0.618</td>\n",
       "      <td>4.4</td>\n",
       "      <td>0.885</td>\n",
       "      <td>0.885</td>\n",
       "      <td>1.7</td>\n",
       "      <td>6.5</td>\n",
       "      <td>5.3</td>\n",
       "      <td>0.8</td>\n",
       "      <td>0.7</td>\n",
       "      <td>3.9</td>\n",
       "      <td>20.8</td>\n",
       "      <td>1</td>\n",
       "    </tr>\n",
       "    <tr>\n",
       "      <th>3</th>\n",
       "      <td>37.8</td>\n",
       "      <td>9.8</td>\n",
       "      <td>19.2</td>\n",
       "      <td>0.512</td>\n",
       "      <td>3.3</td>\n",
       "      <td>7.9</td>\n",
       "      <td>0.414</td>\n",
       "      <td>6.5</td>\n",
       "      <td>0.581</td>\n",
       "      <td>4.6</td>\n",
       "      <td>0.944</td>\n",
       "      <td>0.944</td>\n",
       "      <td>1.2</td>\n",
       "      <td>3.9</td>\n",
       "      <td>6.6</td>\n",
       "      <td>1.2</td>\n",
       "      <td>0.4</td>\n",
       "      <td>3.1</td>\n",
       "      <td>27.5</td>\n",
       "      <td>2</td>\n",
       "    </tr>\n",
       "    <tr>\n",
       "      <th>4</th>\n",
       "      <td>11.4</td>\n",
       "      <td>2.6</td>\n",
       "      <td>5.0</td>\n",
       "      <td>0.520</td>\n",
       "      <td>0.8</td>\n",
       "      <td>2.4</td>\n",
       "      <td>0.333</td>\n",
       "      <td>1.8</td>\n",
       "      <td>0.692</td>\n",
       "      <td>0.2</td>\n",
       "      <td>1.000</td>\n",
       "      <td>1.000</td>\n",
       "      <td>0.2</td>\n",
       "      <td>1.6</td>\n",
       "      <td>2.0</td>\n",
       "      <td>1.0</td>\n",
       "      <td>0.2</td>\n",
       "      <td>1.0</td>\n",
       "      <td>6.2</td>\n",
       "      <td>4</td>\n",
       "    </tr>\n",
       "  </tbody>\n",
       "</table>\n",
       "</div>"
      ],
      "text/plain": [
       "      0    1     2      3    4    5      6    7      8    9     10     11  \\\n",
       "0  14.1  2.0   4.3  0.469  1.0  2.8  0.371  1.0  0.651  0.6  0.788  0.788   \n",
       "1   5.6  0.4   1.7  0.250  0.1  0.9  0.167  0.3  0.333  0.1  0.500  0.500   \n",
       "2  33.8  7.3  14.4  0.505  1.8  5.6  0.325  5.5  0.618  4.4  0.885  0.885   \n",
       "3  37.8  9.8  19.2  0.512  3.3  7.9  0.414  6.5  0.581  4.6  0.944  0.944   \n",
       "4  11.4  2.6   5.0  0.520  0.8  2.4  0.333  1.8  0.692  0.2  1.000  1.000   \n",
       "\n",
       "    12   13   14   15   16   17    18  y  \n",
       "0  0.5  2.1  0.4  0.3  0.3  1.8   5.6  1  \n",
       "1  0.4  0.6  0.1  0.2  0.1  0.2   1.1  3  \n",
       "2  1.7  6.5  5.3  0.8  0.7  3.9  20.8  1  \n",
       "3  1.2  3.9  6.6  1.2  0.4  3.1  27.5  2  \n",
       "4  0.2  1.6  2.0  1.0  0.2  1.0   6.2  4  "
      ]
     },
     "execution_count": 14,
     "metadata": {},
     "output_type": "execute_result"
    }
   ],
   "source": [
    "valid_data.head()"
   ]
  },
  {
   "cell_type": "code",
   "execution_count": 15,
   "id": "fb2cf6f2",
   "metadata": {},
   "outputs": [],
   "source": [
    "samples = []\n",
    "for _ in range(1000):\n",
    "    samples.append(valid_data.sample(100, replace=True))"
   ]
  },
  {
   "cell_type": "code",
   "execution_count": 16,
   "id": "d7251708",
   "metadata": {},
   "outputs": [],
   "source": [
    "accs = []\n",
    "for s in samples:\n",
    "    X_valid = np.array(s)[:,0:-1]\n",
    "    y_valid = np.array(s)[:,-1]\n",
    "    preds_valid = makePredictions(X_valid)\n",
    "    acc = (preds_valid==y_valid).mean()\n",
    "    accs.append(acc)"
   ]
  },
  {
   "cell_type": "code",
   "execution_count": 17,
   "id": "36807c81",
   "metadata": {},
   "outputs": [
    {
     "data": {
      "text/plain": [
       "0.6304599999999999"
      ]
     },
     "execution_count": 17,
     "metadata": {},
     "output_type": "execute_result"
    }
   ],
   "source": [
    "# validation set accuracy\n",
    "sum(accs)/len(accs)"
   ]
  },
  {
   "cell_type": "code",
   "execution_count": 18,
   "id": "2ae539c7",
   "metadata": {},
   "outputs": [
    {
     "data": {
      "image/png": "[encoded data removed]",
      "text/plain": [
       "<Figure size 432x288 with 1 Axes>"
      ]
     },
     "metadata": {
      "needs_background": "light"
     },
     "output_type": "display_data"
    }
   ],
   "source": [
    "pd.DataFrame(accs).plot(kind='hist', title='Distribution of Validation Accuracy on 1000 Samples');"
   ]
  },
  {
   "cell_type": "markdown",
   "id": "399c95a0",
   "metadata": {},
   "source": [
    "Final model"
   ]
  },
  {
   "cell_type": "code",
   "execution_count": 19,
   "id": "9054a3da",
   "metadata": {},
   "outputs": [],
   "source": [
    "# include entire training data set, including the validation set b/c small dataset\n",
    "output = computeCovMatrices(train_data)\n",
    "covMatrices = output[0]\n",
    "means = output[1]\n",
    "sampleSizes = output[2]"
   ]
  },
  {
   "cell_type": "code",
   "execution_count": 20,
   "id": "a4e2761c",
   "metadata": {},
   "outputs": [],
   "source": [
    "X_test = pd.read_csv('X-test.csv', header=None)"
   ]
  },
  {
   "cell_type": "code",
   "execution_count": 21,
   "id": "fee54090",
   "metadata": {},
   "outputs": [],
   "source": [
    "preds_test = makePredictions(X_test)"
   ]
  },
  {
   "cell_type": "code",
   "execution_count": 22,
   "id": "abe964aa",
   "metadata": {},
   "outputs": [],
   "source": [
    "pd.DataFrame(preds_test).to_csv('predictions.csv', header=None, index=None)"
   ]
  },
  {
   "cell_type": "code",
   "execution_count": 23,
   "id": "7416613e",
   "metadata": {},
   "outputs": [
    {
     "data": {
      "text/plain": [
       "array([4, 4, 3, 1, 4])"
      ]
     },
     "execution_count": 23,
     "metadata": {},
     "output_type": "execute_result"
    }
   ],
   "source": [
    "preds_test[0:5]"
   ]
  },
  {
   "cell_type": "code",
   "execution_count": null,
   "id": "a987e6a4",
   "metadata": {},
   "outputs": [],
   "source": []
  }
 ],
 "metadata": {
  "kernelspec": {
   "display_name": "Python 3 (ipykernel)",
   "language": "python",
   "name": "python3"
  },
  "language_info": {
   "codemirror_mode": {
    "name": "ipython",
    "version": 3
   },
   "file_extension": ".py",
   "mimetype": "text/x-python",
   "name": "python",
   "nbconvert_exporter": "python",
   "pygments_lexer": "ipython3",
   "version": "3.9.12"
  }
 },
 "nbformat": 4,
 "nbformat_minor": 5
}
